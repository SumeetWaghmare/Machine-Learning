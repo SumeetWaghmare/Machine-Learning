{
 "cells": [
  {
   "cell_type": "markdown",
   "id": "176d6310-8bdf-4153-a922-0765af0443a3",
   "metadata": {},
   "source": [
    "<b>Salary Prediction Using KNN (K - Nearest Neighbor)</b>"
   ]
  },
  {
   "cell_type": "code",
   "execution_count": 1,
   "id": "2ae25eba-e3c0-4e47-bf17-b1068c40252b",
   "metadata": {},
   "outputs": [],
   "source": [
    "#Importing Libraries\n",
    "import numpy as np\n",
    "import pandas as pd\n",
    "\n",
    "#Loading the Dataset\n",
    "df = pd.read_csv('Salary_Estimation.csv')"
   ]
  },
  {
   "cell_type": "code",
   "execution_count": 2,
   "id": "252e51a0-bdec-4e40-a704-bb8f5b0eab95",
   "metadata": {},
   "outputs": [
    {
     "name": "stdout",
     "output_type": "stream",
     "text": [
      "Dataset Shape\n",
      " (428, 5)\n",
      "\n",
      "   age  education.num  capital.gain  hours.per.week income\n",
      "0   54              9             0              40  <=50k\n",
      "1   39              9             0              22   >50k\n",
      "2   38             10             0              29   >50k\n",
      "3   29              4             0              19   >50k\n",
      "4   19             10             0              29   >50k\n"
     ]
    }
   ],
   "source": [
    "#Summarize Dataset\n",
    "print(\"Dataset Shape\\n\", df.shape)\n",
    "print()\n",
    "print(df.head())"
   ]
  },
  {
   "cell_type": "code",
   "execution_count": 3,
   "id": "ac625574-f097-4c25-8fc8-45569278aedf",
   "metadata": {},
   "outputs": [
    {
     "name": "stdout",
     "output_type": "stream",
     "text": [
      "Converted <=50k to 0 & >=50k to 1\n",
      "\n",
      "    age  education.num  capital.gain  hours.per.week  income\n",
      "0   54              9             0              40       0\n",
      "1   39              9             0              22       1\n",
      "2   38             10             0              29       1\n",
      "3   29              4             0              19       1\n",
      "4   19             10             0              29       1\n"
     ]
    }
   ],
   "source": [
    "#Mapping Salary Data to Binary Value\n",
    "\n",
    "new_income_set = set(df['income']) #we taking income column as a \"SET\", used to create a set of unique values.\n",
    "df['income'] = df['income'].map({'<=50k' : 0, '>50k' : 1}).astype(int)\n",
    "\n",
    "print(\"Converted <=50k to 0 & >=50k to 1\\n\\n\", df.head())"
   ]
  },
  {
   "cell_type": "code",
   "execution_count": 4,
   "id": "a2171db7-eadf-42f5-b593-9e246d4b34f6",
   "metadata": {},
   "outputs": [
    {
     "name": "stdout",
     "output_type": "stream",
     "text": [
      "Input Variable - x \n",
      "\n",
      " [[54  9  0 40]\n",
      " [39  9  0 22]\n",
      " [38 10  0 29]\n",
      " ...\n",
      " [23  5  0 35]\n",
      " [35  6  0 45]\n",
      " [45  7  0 22]]\n"
     ]
    }
   ],
   "source": [
    "# Segregate Dataset into X(Input) & Y(Output)\n",
    "\n",
    "x = df.iloc[:,:-1].values\n",
    "print(\"Input Variable - x \\n\\n\", x)"
   ]
  },
  {
   "cell_type": "code",
   "execution_count": 5,
   "id": "042107a4-acc8-4100-99d9-ea0e54c7405f",
   "metadata": {},
   "outputs": [
    {
     "name": "stdout",
     "output_type": "stream",
     "text": [
      "Output Variable - y \n",
      "\n",
      " [0 1 1 1 1 1 1 0 0 0 1 1 1 1 1 1 0 0 0 1 1 1 1 1 1 0 0 0 1 1 1 1 1 1 0 0 0\n",
      " 1 1 1 1 1 1 0 0 0 1 1 1 1 1 1 0 0 0 1 1 1 1 1 1 0 0 0 1 1 1 1 1 1 0 0 0 1\n",
      " 1 1 1 1 1 0 0 0 1 1 1 1 1 1 0 0 0 1 1 1 1 1 1 0 0 0 1 1 1 1 1 1 0 0 0 1 1\n",
      " 1 1 1 1 0 0 0 1 1 1 1 1 1 0 0 0 1 1 1 1 1 1 0 0 0 1 1 1 1 1 1 0 0 0 1 1 1\n",
      " 1 1 1 0 0 0 1 1 1 1 1 1 0 0 0 1 1 1 1 1 1 0 0 0 1 1 1 1 1 1 0 0 0 1 1 1 1\n",
      " 1 1 0 0 0 1 1 1 1 1 1 0 0 0 1 1 1 1 1 1 0 0 0 1 1 1 1 1 1 0 0 0 1 1 1 1 1\n",
      " 1 0 0 0 1 1 1 1 1 1 0 0 0 1 1 1 1 1 1 0 0 0 1 1 1 1 1 1 0 0 0 1 1 1 1 1 1\n",
      " 0 0 0 1 1 1 1 1 1 0 0 0 1 1 1 1 1 1 0 0 0 1 1 1 1 1 1 0 0 0 1 1 1 1 1 1 0\n",
      " 0 0 1 1 1 1 1 1 0 0 0 1 1 1 1 1 1 0 0 0 1 1 1 1 1 1 0 0 0 1 1 1 1 1 1 0 0\n",
      " 0 1 1 1 1 1 1 0 0 0 1 1 1 1 1 1 0 0 0 1 1 1 1 1 1 0 0 0 1 1 1 1 1 1 0 0 0\n",
      " 1 1 1 1 1 1 0 0 0 1 1 1 1 1 1 0 0 0 1 1 1 1 1 1 0 0 0 1 1 1 1 1 1 0 0 0 1\n",
      " 1 1 1 1 1 0 0 0 1 1 1 1 1 1 0 0 0 1 1 1 1]\n"
     ]
    }
   ],
   "source": [
    "y = df.iloc[:,-1].values\n",
    "print(\"Output Variable - y \\n\\n\", y)"
   ]
  },
  {
   "cell_type": "code",
   "execution_count": 6,
   "id": "b8e16636-9885-4818-9bf9-87d92f5e03f5",
   "metadata": {},
   "outputs": [],
   "source": [
    "#Splitting Dataset into Train & Test\n",
    "\n",
    "from sklearn.model_selection import train_test_split\n",
    "x_train, x_test, y_train, y_test = train_test_split(x, y, test_size = 0.25, random_state = 0)"
   ]
  },
  {
   "cell_type": "code",
   "execution_count": 7,
   "id": "ccb9af68-c7e9-4ae6-ac22-b771944bbe6e",
   "metadata": {},
   "outputs": [],
   "source": [
    "#Feature Scaling (Make the features have the same importance)\n",
    "\n",
    "from sklearn.preprocessing import StandardScaler\n",
    "sc = StandardScaler()\n",
    "x_train = sc.fit_transform(x_train) #\"fit_transform\" determines the mean and variance of each feature in the dataset.\n",
    "x_test = sc.transform(x_test) #\"Transform\" applies the calculated mean and variance to standardize all features.\n"
   ]
  },
  {
   "cell_type": "code",
   "execution_count": 8,
   "id": "86bf881c-8c9d-45b8-9c27-1f22d2bc3dcd",
   "metadata": {},
   "outputs": [
    {
     "data": {
      "text/plain": [
       "Text(0, 0.5, 'Mean Error')"
      ]
     },
     "execution_count": 8,
     "metadata": {},
     "output_type": "execute_result"
    },
    {
     "data": {
      "image/png": "[encoded data removed]",
      "text/plain": [
       "<Figure size 1200x600 with 1 Axes>"
      ]
     },
     "metadata": {},
     "output_type": "display_data"
    }
   ],
   "source": [
    "#Finding the Best K-Value\n",
    "\n",
    "error = []\n",
    "from sklearn.neighbors import KNeighborsClassifier\n",
    "from matplotlib import pyplot as plt\n",
    "\n",
    "for i in range(1, 40):\n",
    "    model = KNeighborsClassifier(n_neighbors=i)\n",
    "    model.fit(x_train,y_train)\n",
    "    pred_i = model.predict(x_test)\n",
    "    error.append(np.mean(pred_i != y_test))\n",
    "\n",
    "plt.figure(figsize=(12,6))\n",
    "plt.plot(range(1, 40),error,color='red', linestyle='dashed' ,marker='o',markerfacecolor='blue',markersize=10)\n",
    "plt.title(\"ERROR RATE K VALUE\")\n",
    "plt.xlabel(\"K Value\")\n",
    "plt.ylabel(\"Mean Error\")"
   ]
  },
  {
   "cell_type": "code",
   "execution_count": 9,
   "id": "1edd3aaf-67df-4362-afb1-03c1a8041e72",
   "metadata": {},
   "outputs": [
    {
     "data": {
      "text/plain": [
       "KNeighborsClassifier(n_neighbors=27)"
      ]
     },
     "execution_count": 9,
     "metadata": {},
     "output_type": "execute_result"
    }
   ],
   "source": [
    "# Training\n",
    "\n",
    "from sklearn.neighbors import KNeighborsClassifier\n",
    "model = KNeighborsClassifier(n_neighbors=27, metric='minkowski', p = 2)\n",
    "model.fit(x_train, y_train)"
   ]
  },
  {
   "cell_type": "code",
   "execution_count": 10,
   "id": "f303b7bb-16c4-430d-a5c7-6a16e1372c62",
   "metadata": {},
   "outputs": [
    {
     "name": "stdout",
     "output_type": "stream",
     "text": [
      "Enter the New Employee Age:54\n",
      "Enter the New Employee Eduction:9\n",
      "Enter the New Employee Captital Gain:0\n",
      "Enter the New Employee Hour's Per Week:40\n",
      "[1]\n",
      "Employee might got Salary above 50K\n"
     ]
    }
   ],
   "source": [
    "# Predicting the Salary\n",
    "\n",
    "age = int(input(\"Enter the New Employee Age:\"))\n",
    "ed = int(input(\"Enter the New Employee Eduction:\"))\n",
    "cg = int(input(\"Enter the New Employee Captital Gain:\"))\n",
    "wh = int(input(\"Enter the New Employee Hour's Per Week:\"))\n",
    "newEmp = [[age,ed,cg,wh]]\n",
    "result = model.predict(sc.transform(newEmp))\n",
    "print(result)\n",
    "\n",
    "if result == 1:\n",
    "    print(\"Employee might got Salary above 50K\")\n",
    "else:\n",
    "    print(\"Employee might not got Salary above 50K\")"
   ]
  },
  {
   "cell_type": "code",
   "execution_count": 11,
   "id": "ed5304a6-98f3-41f5-a06b-75eabc265241",
   "metadata": {},
   "outputs": [
    {
     "name": "stdout",
     "output_type": "stream",
     "text": [
      "[[1 1]\n",
      " [1 1]\n",
      " [1 0]\n",
      " [1 1]\n",
      " [1 1]\n",
      " [1 0]\n",
      " [1 1]\n",
      " [1 1]\n",
      " [1 0]\n",
      " [1 1]\n",
      " [1 1]\n",
      " [1 1]\n",
      " [0 1]\n",
      " [1 0]\n",
      " [1 1]\n",
      " [1 0]\n",
      " [1 1]\n",
      " [1 1]\n",
      " [1 1]\n",
      " [1 1]\n",
      " [1 1]\n",
      " [1 1]\n",
      " [0 0]\n",
      " [1 1]\n",
      " [1 1]\n",
      " [1 0]\n",
      " [1 1]\n",
      " [1 1]\n",
      " [1 1]\n",
      " [1 1]\n",
      " [1 1]\n",
      " [1 1]\n",
      " [0 1]\n",
      " [1 1]\n",
      " [1 0]\n",
      " [1 1]\n",
      " [1 1]\n",
      " [1 1]\n",
      " [0 1]\n",
      " [1 1]\n",
      " [1 1]\n",
      " [1 0]\n",
      " [1 1]\n",
      " [1 0]\n",
      " [1 1]\n",
      " [1 1]\n",
      " [1 1]\n",
      " [1 0]\n",
      " [1 0]\n",
      " [1 1]\n",
      " [1 1]\n",
      " [1 0]\n",
      " [1 1]\n",
      " [1 0]\n",
      " [1 1]\n",
      " [1 1]\n",
      " [1 1]\n",
      " [1 1]\n",
      " [1 0]\n",
      " [1 1]\n",
      " [1 1]\n",
      " [1 1]\n",
      " [0 1]\n",
      " [1 0]\n",
      " [1 0]\n",
      " [1 1]\n",
      " [1 1]\n",
      " [1 1]\n",
      " [1 1]\n",
      " [1 1]\n",
      " [1 1]\n",
      " [0 0]\n",
      " [1 0]\n",
      " [1 1]\n",
      " [1 0]\n",
      " [0 0]\n",
      " [1 1]\n",
      " [1 0]\n",
      " [1 1]\n",
      " [1 0]\n",
      " [1 0]\n",
      " [1 0]\n",
      " [1 1]\n",
      " [1 0]\n",
      " [1 0]\n",
      " [1 1]\n",
      " [1 1]\n",
      " [1 1]\n",
      " [1 1]\n",
      " [1 1]\n",
      " [1 1]\n",
      " [1 0]\n",
      " [1 1]\n",
      " [1 0]\n",
      " [1 1]\n",
      " [1 1]\n",
      " [1 1]\n",
      " [1 0]\n",
      " [1 1]\n",
      " [1 0]\n",
      " [1 1]\n",
      " [1 1]\n",
      " [1 0]\n",
      " [1 1]\n",
      " [1 1]\n",
      " [1 0]\n",
      " [1 0]]\n"
     ]
    }
   ],
   "source": [
    "# Prediction for all Test Data\n",
    "\n",
    "y_pred = model.predict(x_test)\n",
    "print(np.concatenate((y_pred.reshape(len(y_pred),1),y_test.reshape(len(y_test),1)),1))"
   ]
  },
  {
   "cell_type": "code",
   "execution_count": 12,
   "id": "a529ce38-6513-46d2-ad80-28ce7e289ca8",
   "metadata": {},
   "outputs": [
    {
     "name": "stdout",
     "output_type": "stream",
     "text": [
      "Confusion Matrix: \n",
      "[[ 3 31]\n",
      " [ 4 69]]\n",
      "Accuracy :67.28971962616822\n"
     ]
    }
   ],
   "source": [
    "#Evaluating Model - ACCURACY SCORE\n",
    "\n",
    "from sklearn.metrics import confusion_matrix, accuracy_score\n",
    "cm = confusion_matrix(y_test,y_pred)\n",
    "\n",
    "print(\"Confusion Matrix: \")\n",
    "print(cm)\n",
    "\n",
    "print(f\"Accuracy :{accuracy_score(y_test,y_pred)*100}\")"
   ]
  }
 ],
 "metadata": {
  "kernelspec": {
   "display_name": "Python 3 (ipykernel)",
   "language": "python",
   "name": "python3"
  },
  "language_info": {
   "codemirror_mode": {
    "name": "ipython",
    "version": 3
   },
   "file_extension": ".py",
   "mimetype": "text/x-python",
   "name": "python",
   "nbconvert_exporter": "python",
   "pygments_lexer": "ipython3",
   "version": "3.7.8"
  }
 },
 "nbformat": 4,
 "nbformat_minor": 5
}
